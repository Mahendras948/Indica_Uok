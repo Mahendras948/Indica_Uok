{
 "cells": [
  {
   "cell_type": "code",
   "execution_count": 153,
   "id": "fd3e8145",
   "metadata": {},
   "outputs": [
    {
     "data": {
      "text/html": [
       "\n",
       "<style>\n",
       "h1,h2,h3 {\n",
       "\tmargin: 1em 0 0.5em 0;\n",
       "\tfont-weight: 600;\n",
       "\tfont-family: 'Titillium Web', sans-serif;\n",
       "\tposition: relative;  \n",
       "\tfont-size: 36px;\n",
       "\tline-height: 40px;\n",
       "\tpadding: 15px 15px 15px 2.5%;\n",
       "\tcolor: #13003A;\n",
       "\tbox-shadow: \n",
       "\t\tinset 0 0 0 1px rgba(53,86,129, 1), \n",
       "\t\tinset 0 0 5px rgba(53,86,129, 1),\n",
       "\t\tinset -285px 0 35px white;\n",
       "\tborder-radius: 0 10px 0 15px;\n",
       "\tbackground: #fff\n",
       "    \n",
       "}\n",
       "</style>\n"
      ],
      "text/plain": [
       "<IPython.core.display.HTML object>"
      ]
     },
     "execution_count": 153,
     "metadata": {},
     "output_type": "execute_result"
    }
   ],
   "source": [
    "## ======== Run this Cell as it is======== ##\n",
    "\n",
    "from IPython.display import HTML\n",
    "HTML(\"\"\"\n",
    "<style>\n",
    "h1,h2,h3 {\n",
    "\tmargin: 1em 0 0.5em 0;\n",
    "\tfont-weight: 600;\n",
    "\tfont-family: 'Titillium Web', sans-serif;\n",
    "\tposition: relative;  \n",
    "\tfont-size: 36px;\n",
    "\tline-height: 40px;\n",
    "\tpadding: 15px 15px 15px 2.5%;\n",
    "\tcolor: #13003A;\n",
    "\tbox-shadow: \n",
    "\t\tinset 0 0 0 1px rgba(53,86,129, 1), \n",
    "\t\tinset 0 0 5px rgba(53,86,129, 1),\n",
    "\t\tinset -285px 0 35px white;\n",
    "\tborder-radius: 0 10px 0 15px;\n",
    "\tbackground: #fff\n",
    "    \n",
    "}\n",
    "</style>\n",
    "\"\"\")\n",
    "\n",
    "\n",
    "## ================================ ##"
   ]
  },
  {
   "cell_type": "markdown",
   "id": "44a6c77c",
   "metadata": {},
   "source": [
    "<h1 style=\"background-color:#ABFF9B;font-size:20px;color:#00033E;font-weight : bold\">COVID-19 Genome Analysis  </h1>"
   ]
  },
  {
   "cell_type": "markdown",
   "id": "b69da0c1",
   "metadata": {},
   "source": [
    "### Importing The packages"
   ]
  },
  {
   "cell_type": "code",
   "execution_count": 136,
   "id": "5732028c",
   "metadata": {},
   "outputs": [],
   "source": [
    "import Bio\n",
    "from Bio import Entrez, SeqIO\n",
    "import matplotlib.pyplot as plt\n",
    "from numpy import*\n",
    "import numpy as np "
   ]
  },
  {
   "cell_type": "markdown",
   "id": "45850347",
   "metadata": {},
   "source": [
    "### Uploading The Datasets\n",
    "* **Genome:** SARS-CoV2\n",
    "* **Source:** NCBI_GenBank\n",
    "* **Acc No:** NC_045512.2"
   ]
  },
  {
   "cell_type": "code",
   "execution_count": 137,
   "id": "9b54456a",
   "metadata": {},
   "outputs": [],
   "source": [
    "Entrez.email = \"\" \n",
    "handle = Entrez.efetch(db=\"nucleotide\", id=\"NC_045512.2\", rettype=\"gb\", retmode=\"text\")\n",
    "recs = list(SeqIO.parse(handle, 'gb'))\n",
    "handle.close()"
   ]
  },
  {
   "cell_type": "code",
   "execution_count": 138,
   "id": "12bf15a2",
   "metadata": {},
   "outputs": [
    {
     "name": "stdout",
     "output_type": "stream",
     "text": [
      "[SeqRecord(seq=Seq('ATTAAAGGTTTATACCTTCCCAGGTAACAAACCAACCAACTTTCGATCTCTTGT...AAA'), id='NC_045512.2', name='NC_045512', description='Severe acute respiratory syndrome coronavirus 2 isolate Wuhan-Hu-1, complete genome', dbxrefs=['BioProject:PRJNA485481'])]\n"
     ]
    }
   ],
   "source": [
    "print(recs)"
   ]
  },
  {
   "cell_type": "code",
   "execution_count": 139,
   "id": "100e1fec",
   "metadata": {},
   "outputs": [],
   "source": [
    "covid_dna = recs[0].seq"
   ]
  },
  {
   "cell_type": "markdown",
   "id": "c1dc918c",
   "metadata": {},
   "source": [
    "### Genome Size"
   ]
  },
  {
   "cell_type": "code",
   "execution_count": 140,
   "id": "0de1872e",
   "metadata": {},
   "outputs": [
    {
     "name": "stdout",
     "output_type": "stream",
     "text": [
      "The genome of Covid-19 consists of 29903 Kb.\n"
     ]
    }
   ],
   "source": [
    "print(f'The genome of Covid-19 consists of {len(covid_dna)} Kb.')"
   ]
  },
  {
   "cell_type": "markdown",
   "id": "0bf4308a",
   "metadata": {},
   "source": [
    "Genome of Covid-19 around 29.9 Kb in size"
   ]
  },
  {
   "cell_type": "markdown",
   "id": "9da41443",
   "metadata": {},
   "source": [
    "### Molecular weight"
   ]
  },
  {
   "cell_type": "code",
   "execution_count": 141,
   "id": "d602fe0e",
   "metadata": {},
   "outputs": [
    {
     "data": {
      "text/plain": [
       "9241219.214400413"
      ]
     },
     "execution_count": 141,
     "metadata": {},
     "output_type": "execute_result"
    }
   ],
   "source": [
    "from Bio.SeqUtils import molecular_weight\n",
    "molecular_weight(covid_dna)"
   ]
  },
  {
   "cell_type": "markdown",
   "id": "80e77ba2",
   "metadata": {},
   "source": [
    "**GC content:** higher GC content implies more stable molecule due to G and C forming triple hydrogen bonds"
   ]
  },
  {
   "cell_type": "code",
   "execution_count": 142,
   "id": "564e178e",
   "metadata": {},
   "outputs": [
    {
     "data": {
      "text/plain": [
       "37.97277865097148"
      ]
     },
     "execution_count": 142,
     "metadata": {},
     "output_type": "execute_result"
    }
   ],
   "source": [
    "from Bio.SeqUtils import GC\n",
    "GC(covid_dna)"
   ]
  },
  {
   "cell_type": "markdown",
   "id": "3503cfe8",
   "metadata": {},
   "source": [
    "### Distribution of nucleotides in COVID-19 genome"
   ]
  },
  {
   "cell_type": "code",
   "execution_count": 143,
   "id": "9d36a2d7",
   "metadata": {},
   "outputs": [],
   "source": [
    "count_nucleotides = {\n",
    "    'A': covid_dna.count('A'),\n",
    "    'T': covid_dna.count('T'),\n",
    "    'C': covid_dna.count('C'),\n",
    "    'G': covid_dna.count('G')\n",
    "}"
   ]
  },
  {
   "cell_type": "code",
   "execution_count": 144,
   "id": "95d8692b",
   "metadata": {},
   "outputs": [
    {
     "data": {
      "text/plain": [
       "{'A': 8954, 'T': 9594, 'C': 5492, 'G': 5863}"
      ]
     },
     "execution_count": 144,
     "metadata": {},
     "output_type": "execute_result"
    }
   ],
   "source": [
    "count_nucleotides"
   ]
  },
  {
   "cell_type": "code",
   "execution_count": 145,
   "id": "37f709c3",
   "metadata": {},
   "outputs": [],
   "source": [
    "A = [8954]\n",
    "T = [9594] \n",
    "C = [5492]\n",
    "G = [5863]"
   ]
  },
  {
   "cell_type": "code",
   "execution_count": 146,
   "id": "85883b48",
   "metadata": {},
   "outputs": [
    {
     "data": {
      "image/png": "[encoded data removed]",
      "text/plain": [
       "<Figure size 432x288 with 1 Axes>"
      ]
     },
     "metadata": {
      "needs_background": "light"
     },
     "output_type": "display_data"
    }
   ],
   "source": [
    "width = 0.5\n",
    "plt.bar(ax + 0.2, A, 0.4, label = 'A',color= \"b\")\n",
    "plt.bar(ax + 0.2, T, 0.4, label = 'T',color= \"r\")\n",
    "plt.bar(ax - 0.2, C, 0.4, label = 'C',color= \"m\")\n",
    "plt.bar(ax + 0.2, G, 0.4, label = 'G',color= \"c\")\n",
    "\n",
    "plt.bar(count_nucleotides.keys(), count_nucleotides.values(), width, color=['b', 'r', 'm', 'c'])\n",
    "plt.xlabel('Nucleotide', weight='bold', size=10)\n",
    "plt.ylabel('Frequency', weight='bold', size=10)\n",
    "plt.title('Nucleotide Frequency', weight='bold')\n",
    "plt.legend()\n",
    "plt.show()"
   ]
  },
  {
   "cell_type": "markdown",
   "id": "ef06f864",
   "metadata": {},
   "source": [
    "* First observation: The frequency of the AT content is higher than the frequency of CG content, means genome is quite flexible and able to interact with other molecules like DNA and Proteins of the host cells\n"
   ]
  },
  {
   "cell_type": "markdown",
   "id": "5a877090",
   "metadata": {},
   "source": [
    "### Transcription\n",
    "* Transcription is the first step in gene expression. It involves copying a gene's DNA sequence to make an RNA molecule."
   ]
  },
  {
   "cell_type": "code",
   "execution_count": 147,
   "id": "d389a43b",
   "metadata": {},
   "outputs": [
    {
     "data": {
      "text/plain": [
       "Seq('AUUAAAGGUUUAUACCUUCCCAGGUAACAAACCAACCAACUUUCGAUCUCUUGU...AAA')"
      ]
     },
     "execution_count": 147,
     "metadata": {},
     "output_type": "execute_result"
    }
   ],
   "source": [
    "covid_mrna = covid_dna.transcribe()\n",
    "covid_mrna"
   ]
  },
  {
   "cell_type": "markdown",
   "id": "1890751d",
   "metadata": {},
   "source": [
    "### Translation\n",
    "* Translation is the process that takes the information passed from DNA as messenger RNA and turns it into a series of amino acids."
   ]
  },
  {
   "cell_type": "code",
   "execution_count": 149,
   "id": "da15aab0",
   "metadata": {},
   "outputs": [
    {
     "data": {
      "text/plain": [
       "Seq('IKGLYLPR*QTNQLSISCRSVL*TNFKICVAVTRLHA*CTHAV*LITNYCR*QD...KKK')"
      ]
     },
     "execution_count": 149,
     "metadata": {},
     "output_type": "execute_result"
    }
   ],
   "source": [
    "covid_aa = covid_mrna.translate()\n",
    "covid_aa"
   ]
  },
  {
   "cell_type": "markdown",
   "id": "21fd78ba",
   "metadata": {},
   "source": [
    "### Most common amino acids"
   ]
  },
  {
   "cell_type": "code",
   "execution_count": 150,
   "id": "3b4fbb60",
   "metadata": {},
   "outputs": [
    {
     "data": {
      "text/plain": [
       "[('L', 886),\n",
       " ('S', 810),\n",
       " ('*', 774),\n",
       " ('T', 679),\n",
       " ('C', 635),\n",
       " ('F', 593),\n",
       " ('R', 558),\n",
       " ('V', 548),\n",
       " ('Y', 505),\n",
       " ('N', 472)]"
      ]
     },
     "execution_count": 150,
     "metadata": {},
     "output_type": "execute_result"
    }
   ],
   "source": [
    "from collections import Counter\n",
    "common_amino = Counter(covid_aa)\n",
    "common_amino.most_common(10)"
   ]
  },
  {
   "cell_type": "code",
   "execution_count": 151,
   "id": "7324f504",
   "metadata": {},
   "outputs": [],
   "source": [
    "L = [886]\n",
    "S = [810]\n",
    "T = [679]"
   ]
  },
  {
   "cell_type": "code",
   "execution_count": 152,
   "id": "b509b47f",
   "metadata": {},
   "outputs": [
    {
     "data": {
      "image/png": "[encoded data removed]",
      "text/plain": [
       "<Figure size 432x288 with 1 Axes>"
      ]
     },
     "metadata": {
      "needs_background": "light"
     },
     "output_type": "display_data"
    }
   ],
   "source": [
    "del common_amino['*']\n",
    "width = 0.5\n",
    "plt.bar(ax + 0.2, L, 0.4, label = 'L',color= \"c\")\n",
    "plt.bar(ax + 0.2, S, 0.4, label = 'S',color= \"r\")\n",
    "plt.bar(ax - 0.2, T, 0.4, label = 'T',color= \"b\")\n",
    "\n",
    "\n",
    "plt.bar(common_amino.keys(), common_amino.values(), width, color=['b', 'g', 'r', 'c'])\n",
    "plt.xlabel('Amino Acid', weight='bold', size=10)\n",
    "plt.ylabel('Frequency', weight='bold', size=10)\n",
    "plt.title('Protein Sequence Frequency', weight='bold')\n",
    "plt.legend()\n",
    "plt.show()"
   ]
  },
  {
   "cell_type": "markdown",
   "id": "c552fcff",
   "metadata": {},
   "source": [
    "### Total Anmino Acids"
   ]
  },
  {
   "cell_type": "code",
   "execution_count": 123,
   "id": "1a2fa555",
   "metadata": {},
   "outputs": [
    {
     "name": "stdout",
     "output_type": "stream",
     "text": [
      "Covid-19's genome has dict_values([436, 413, 394, 886, 505, 292, 558, 325, 679, 472, 810, 635, 548, 593, 375, 332, 290, 270, 263, 117]) amino acids\n"
     ]
    }
   ],
   "source": [
    "print(f\"Covid-19's genome has {sum(common_amino.values())} amino acids\")"
   ]
  },
  {
   "cell_type": "code",
   "execution_count": 124,
   "id": "38401947",
   "metadata": {},
   "outputs": [],
   "source": [
    "proteins = covid_aa.split('*')"
   ]
  },
  {
   "cell_type": "code",
   "execution_count": 125,
   "id": "58512a0c",
   "metadata": {},
   "outputs": [
    {
     "data": {
      "text/plain": [
       "[Seq('IKGLYLPR'),\n",
       " Seq('QTNQLSISCRSVL'),\n",
       " Seq('TNFKICVAVTRLHA'),\n",
       " Seq('CTHAV'),\n",
       " Seq('LITNYCR')]"
      ]
     },
     "execution_count": 125,
     "metadata": {},
     "output_type": "execute_result"
    }
   ],
   "source": [
    "proteins[:5]"
   ]
  },
  {
   "cell_type": "code",
   "execution_count": 126,
   "id": "b6a92e35",
   "metadata": {},
   "outputs": [
    {
     "name": "stdout",
     "output_type": "stream",
     "text": [
      "We have 775 amino acids in the covid-19 genome\n"
     ]
    }
   ],
   "source": [
    "print(f'We have {len(proteins)} amino acids in the covid-19 genome')"
   ]
  },
  {
   "cell_type": "markdown",
   "id": "e1f10a6f",
   "metadata": {},
   "source": [
    "* Only the sequences with more than 20 amino acids code for functional proteins. The shorter amino acid sequences are oligopeptides and have other functionalities. Here, we will focus on the chains with more than 20 amino acid chains: Proteins.\n",
    "\n"
   ]
  },
  {
   "cell_type": "code",
   "execution_count": 127,
   "id": "a6ce6a31",
   "metadata": {},
   "outputs": [],
   "source": [
    "for protein in proteins:\n",
    "    if len(protein) < 20:\n",
    "        proteins.remove(protein)"
   ]
  },
  {
   "cell_type": "code",
   "execution_count": 128,
   "id": "5dd19d49",
   "metadata": {},
   "outputs": [
    {
     "name": "stdout",
     "output_type": "stream",
     "text": [
      "We have 409 proteins with more than 20 amino acids in the covid-19 genome\n"
     ]
    }
   ],
   "source": [
    "print(f'We have {len(proteins)} proteins with more than 20 amino acids in the covid-19 genome')"
   ]
  },
  {
   "cell_type": "code",
   "execution_count": 129,
   "id": "462d99c1",
   "metadata": {},
   "outputs": [],
   "source": [
    "top_5_proteins = sorted(proteins, key = len)"
   ]
  },
  {
   "cell_type": "code",
   "execution_count": 119,
   "id": "e4dd673c",
   "metadata": {},
   "outputs": [
    {
     "data": {
      "text/plain": [
       "Seq('CTIVFKRVCGVSAARLTPCGTGTSTDVVYRAFDIYNDKVAGFAKFLKTNCCRFQ...VNN')"
      ]
     },
     "execution_count": 119,
     "metadata": {},
     "output_type": "execute_result"
    }
   ],
   "source": [
    "top_5_proteins[-1]"
   ]
  },
  {
   "cell_type": "code",
   "execution_count": 130,
   "id": "bc636927",
   "metadata": {},
   "outputs": [
    {
     "data": {
      "text/plain": [
       "2701"
      ]
     },
     "execution_count": 130,
     "metadata": {},
     "output_type": "execute_result"
    }
   ],
   "source": [
    "len(top_5_proteins[-1])"
   ]
  },
  {
   "cell_type": "markdown",
   "id": "2489c78a",
   "metadata": {},
   "source": [
    "### Summary of Findings\n",
    "* Sequence length: 29.9 Kbs in size \n",
    "* GC content: 37.9%\n",
    "* Has high amount of Leucine L, Serine S and Threonine T\n",
    "* 409 proteins with more than 20 amino acids\n",
    "* The largest protein is of length of 2,701 amino acid."
   ]
  },
  {
   "cell_type": "markdown",
   "id": "7f3a77c4",
   "metadata": {},
   "source": [
    "@Mahendra Singh | SCIS, JNU"
   ]
  }
 ],
 "metadata": {
  "kernelspec": {
   "display_name": "Python 3",
   "language": "python",
   "name": "python3"
  },
  "language_info": {
   "codemirror_mode": {
    "name": "ipython",
    "version": 3
   },
   "file_extension": ".py",
   "mimetype": "text/x-python",
   "name": "python",
   "nbconvert_exporter": "python",
   "pygments_lexer": "ipython3",
   "version": "3.8.8"
  }
 },
 "nbformat": 4,
 "nbformat_minor": 5
}
